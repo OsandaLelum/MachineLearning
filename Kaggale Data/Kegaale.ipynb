{
  "nbformat": 4,
  "nbformat_minor": 0,
  "metadata": {
    "colab": {
      "provenance": []
    },
    "kernelspec": {
      "name": "python3",
      "display_name": "Python 3"
    },
    "language_info": {
      "name": "python"
    }
  },
  "cells": [
    {
      "cell_type": "code",
      "execution_count": null,
      "metadata": {
        "id": "hDy8ccf8xZGv"
      },
      "outputs": [],
      "source": [
        "!pip install -q kaggle"
      ]
    },
    {
      "cell_type": "code",
      "source": [
        "from google.colab import drive\n",
        "drive.mount('/content/gdrive')"
      ],
      "metadata": {
        "colab": {
          "base_uri": "https://localhost:8080/"
        },
        "id": "ZJDPNxpl94f-",
        "outputId": "1562abcd-22d1-43cc-de8d-88ffc5667300"
      },
      "execution_count": null,
      "outputs": [
        {
          "output_type": "stream",
          "name": "stdout",
          "text": [
            "Mounted at /content/gdrive\n"
          ]
        }
      ]
    },
    {
      "cell_type": "code",
      "source": [
        "import os \n",
        "os.environ['KAGGLE_CONFIG_DIR']='/content/gdrive/MyDrive/kaggle datasets'"
      ],
      "metadata": {
        "id": "u-8Xii8B-jdD"
      },
      "execution_count": null,
      "outputs": []
    },
    {
      "cell_type": "code",
      "source": [
        "%cd /content/gdrive/MyDrive/kaggle datasets"
      ],
      "metadata": {
        "colab": {
          "base_uri": "https://localhost:8080/"
        },
        "id": "M9Ozxk-i_Etq",
        "outputId": "d4d42256-3e8d-406a-942d-44970d537a03"
      },
      "execution_count": null,
      "outputs": [
        {
          "output_type": "stream",
          "name": "stdout",
          "text": [
            "/content/gdrive/MyDrive/kaggle datasets\n"
          ]
        }
      ]
    },
    {
      "cell_type": "code",
      "source": [
        "!ls"
      ],
      "metadata": {
        "id": "rY8mdZcG_NA3",
        "outputId": "cf5ccd89-bb93-4e36-dbe1-791d67253306",
        "colab": {
          "base_uri": "https://localhost:8080/"
        }
      },
      "execution_count": 11,
      "outputs": [
        {
          "output_type": "stream",
          "name": "stdout",
          "text": [
            "Kaggale.ipynb  kaggle.json\n"
          ]
        }
      ]
    },
    {
      "cell_type": "code",
      "source": [
        "!kaggle datasset downlaod -d /khalidryder777/500k-chatgpt-tweets-jan-mar-2023"
      ],
      "metadata": {
        "id": "7lbFVFsYGDkH",
        "outputId": "d28f9ca4-069d-4b5b-e392-28d9f5500086",
        "colab": {
          "base_uri": "https://localhost:8080/"
        }
      },
      "execution_count": 13,
      "outputs": [
        {
          "output_type": "stream",
          "name": "stdout",
          "text": [
            "usage: kaggle\n",
            "       [-h]\n",
            "       [-v]\n",
            "       {competitions,c,datasets,d,kernels,k,config}\n",
            "       ...\n",
            "kaggle: error: argument command: invalid choice: 'datasset' (choose from 'competitions', 'c', 'datasets', 'd', 'kernels', 'k', 'config')\n"
          ]
        }
      ]
    }
  ]
}