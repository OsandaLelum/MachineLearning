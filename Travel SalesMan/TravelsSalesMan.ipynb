{
  "nbformat": 4,
  "nbformat_minor": 0,
  "metadata": {
    "colab": {
      "provenance": []
    },
    "kernelspec": {
      "name": "python3",
      "display_name": "Python 3"
    },
    "language_info": {
      "name": "python"
    }
  },
  "cells": [
    {
      "cell_type": "markdown",
      "source": [
        "Travel salesman Problem\n",
        "Genetic algorithms have a variety of applications, and one of the basic applications of genetic algorithms can be the optimization of problems and solutions.\n",
        "Use optimization for finding the best solution to any problem. Optimization using genetic algorithms can be considered genetic optimization"
      ],
      "metadata": {
        "id": "pBFAYyRWkFg-"
      }
    },
    {
      "cell_type": "markdown",
      "source": [
        "https://en.wikipedia.org/wiki/Travelling_salesman_problem"
      ],
      "metadata": {
        "id": "1IX7WLXnkEMI"
      }
    },
    {
      "cell_type": "code",
      "source": [
        "# Imports \n",
        "import numpy as np\n",
        "import random\n",
        "\n",
        "from datetime import datetime"
      ],
      "metadata": {
        "id": "eSilPJNTk0IB"
      },
      "execution_count": 2,
      "outputs": []
    },
    {
      "cell_type": "code",
      "source": [
        "# Parameters\n",
        "n_cities = 20\n",
        "\n",
        "n_population = 100\n",
        "\n",
        "mutation_rate = 0.3"
      ],
      "metadata": {
        "id": "afgvEZqVk4hL"
      },
      "execution_count": 3,
      "outputs": []
    },
    {
      "cell_type": "code",
      "source": [
        "# Generating a list of coordenades representing each city\n",
        "coordinates_list = [[x,y] for x,y in zip(np.random.randint(0,100,n_cities),np.random.randint(0,100,n_cities))]\n",
        "names_list = np.array(['Berlin', 'London', 'Moscow', 'Barcelona', 'Rome', 'Paris', 'Vienna', 'Munich', 'Istanbul', 'Kyiv', 'Bucharest', 'Minsk', 'Warsaw', 'Budapest', 'Milan', 'Prague', 'Sofia', 'Birmingham', 'Brussels', 'Amsterdam'])\n",
        "cities_dict = { x:y for x,y in zip(names_list,coordinates_list)}\n",
        "\n",
        "# Function to compute the distance between two points\n",
        "def compute_city_distance_coordinates(a,b):\n",
        "    return ((a[0]-b[0])**2+(a[1]-b[1])**2)**0.5\n",
        "\n",
        "def compute_city_distance_names(city_a, city_b, cities_dict):\n",
        "    return compute_city_distance_coordinates(cities_dict[city_a], cities_dict[city_b])\n",
        "\n",
        "cities_dict"
      ],
      "metadata": {
        "colab": {
          "base_uri": "https://localhost:8080/",
          "height": 0
        },
        "id": "EGxMt2UJk8lh",
        "outputId": "9ee4f763-19dd-4b88-b55b-f90c728e29b9"
      },
      "execution_count": 4,
      "outputs": [
        {
          "output_type": "execute_result",
          "data": {
            "text/plain": [
              "{'Berlin': [40, 25],\n",
              " 'London': [45, 33],\n",
              " 'Moscow': [46, 84],\n",
              " 'Barcelona': [82, 0],\n",
              " 'Rome': [77, 48],\n",
              " 'Paris': [6, 72],\n",
              " 'Vienna': [98, 67],\n",
              " 'Munich': [28, 56],\n",
              " 'Istanbul': [43, 89],\n",
              " 'Kyiv': [45, 85],\n",
              " 'Bucharest': [99, 95],\n",
              " 'Minsk': [82, 7],\n",
              " 'Warsaw': [27, 22],\n",
              " 'Budapest': [56, 77],\n",
              " 'Milan': [98, 17],\n",
              " 'Prague': [71, 57],\n",
              " 'Sofia': [49, 22],\n",
              " 'Birmingham': [37, 54],\n",
              " 'Brussels': [92, 68],\n",
              " 'Amsterdam': [33, 75]}"
            ]
          },
          "metadata": {},
          "execution_count": 4
        }
      ]
    },
    {
      "cell_type": "code",
      "source": [
        "# First step: Create the first population set\n",
        "def genesis(city_list, n_population):\n",
        "\n",
        "    population_set = []\n",
        "    for i in range(n_population):\n",
        "        #Randomly generating a new solution\n",
        "        sol_i = city_list[np.random.choice(list(range(n_cities)), n_cities, replace=False)]\n",
        "        population_set.append(sol_i)\n",
        "    return np.array(population_set)\n",
        "\n",
        "population_set = genesis(names_list, n_population)\n",
        "population_set"
      ],
      "metadata": {
        "colab": {
          "base_uri": "https://localhost:8080/",
          "height": 0
        },
        "id": "O_j-pEltkJYW",
        "outputId": "5b15ab0e-9767-4d1f-ab23-7cb73700ce43"
      },
      "execution_count": 16,
      "outputs": [
        {
          "output_type": "execute_result",
          "data": {
            "text/plain": [
              "array([['Milan', 'Barcelona', 'Vienna', ..., 'Kyiv', 'Berlin', 'Moscow'],\n",
              "       ['Berlin', 'London', 'Budapest', ..., 'Bucharest', 'Rome',\n",
              "        'Barcelona'],\n",
              "       ['Moscow', 'Paris', 'Berlin', ..., 'Amsterdam', 'Bucharest',\n",
              "        'Minsk'],\n",
              "       ...,\n",
              "       ['Amsterdam', 'Warsaw', 'Rome', ..., 'Bucharest', 'Prague',\n",
              "        'London'],\n",
              "       ['Barcelona', 'Berlin', 'Paris', ..., 'Bucharest', 'Minsk',\n",
              "        'Budapest'],\n",
              "       ['Budapest', 'Moscow', 'Brussels', ..., 'Bucharest', 'Minsk',\n",
              "        'Paris']], dtype='<U10')"
            ]
          },
          "metadata": {},
          "execution_count": 16
        }
      ]
    },
    {
      "cell_type": "code",
      "source": [
        "def fitness_eval(city_list, cities_dict):\n",
        "    total = 0\n",
        "    for i in range(n_cities-1):\n",
        "        a = city_list[i]\n",
        "        b = city_list[i+1]\n",
        "        total += compute_city_distance_names(a,b, cities_dict)\n",
        "    return total\n",
        "\n"
      ],
      "metadata": {
        "id": "tB_1t4n8l0WZ"
      },
      "execution_count": 19,
      "outputs": []
    },
    {
      "cell_type": "code",
      "source": [
        "  def get_all_fitnes(population_set, cities_dict):\n",
        "    fitnes_list = np.zeros(n_population)\n",
        "\n",
        "    #Looping over all solutions computing the fitness for each solution\n",
        "    for i in  range(n_population):\n",
        "        fitnes_list[i] = fitness_eval(population_set[i], cities_dict)\n",
        "\n",
        "    return fitnes_list\n",
        "\n",
        "fitnes_list = get_all_fitnes(population_set,cities_dict)\n",
        "fitnes_list"
      ],
      "metadata": {
        "colab": {
          "base_uri": "https://localhost:8080/",
          "height": 0
        },
        "id": "_yAvof6FmSPQ",
        "outputId": "611ea64b-07d8-4c2c-894a-226b66552a90"
      },
      "execution_count": 20,
      "outputs": [
        {
          "output_type": "execute_result",
          "data": {
            "text/plain": [
              "array([ 898.99469475,  882.85418748, 1100.11479126,  946.36415103,\n",
              "        871.67572296, 1039.5913772 ,  848.10247503, 1050.8802423 ,\n",
              "        955.01966595, 1159.10070297,  954.21121773, 1069.2026347 ,\n",
              "        948.938909  , 1058.16925776, 1038.73354695, 1018.32388418,\n",
              "       1027.57053977,  924.71507825,  847.46986004,  935.30790558,\n",
              "       1025.90457391,  960.51620294,  948.79425209,  882.40704462,\n",
              "        810.66030964,  835.78340877, 1085.34074437, 1073.30829206,\n",
              "       1124.35423738, 1129.00910089,  890.05740812, 1040.50923559,\n",
              "        984.62220291,  920.42659841,  938.92691874,  928.10233503,\n",
              "       1069.9776899 , 1004.75085998,  909.44801133, 1077.30262702,\n",
              "        856.73097288,  880.0335961 ,  951.84389454,  900.12359927,\n",
              "       1261.79839539, 1038.76794467,  982.81167546,  935.47476431,\n",
              "       1011.13529085, 1004.48543721,  810.09803542, 1047.7969524 ,\n",
              "        913.75847096, 1002.96330918, 1058.4895399 ,  970.58505553,\n",
              "       1032.79779834, 1128.4697065 ,  859.19446941,  994.21231553,\n",
              "        965.18730762,  925.54262345, 1024.51573981,  988.78384524,\n",
              "       1068.91906394,  968.24237062, 1084.81267705,  770.27966803,\n",
              "       1016.52416962,  997.50947741,  976.21912806,  909.36905432,\n",
              "       1069.75640841, 1141.13378458,  990.9400788 ,  963.7666192 ,\n",
              "        964.1549149 ,  978.01309912,  963.32195588,  960.18224173,\n",
              "       1072.39305174,  914.15776917, 1042.15300957,  896.30430677,\n",
              "        980.98625243,  968.1943718 ,  865.35668976, 1134.71412559,\n",
              "        979.75675685,  976.77880447,  911.12237453,  840.45218126,\n",
              "       1141.15545867, 1026.96652855,  916.62307769, 1095.30522816,\n",
              "        963.59027395, 1040.15930834, 1047.78253987,  916.76330229])"
            ]
          },
          "metadata": {},
          "execution_count": 20
        }
      ]
    },
    {
      "cell_type": "code",
      "source": [
        "def progenitor_selection(population_set,fitnes_list):\n",
        "    total_fit = fitnes_list.sum()\n",
        "    prob_list = fitnes_list/total_fit\n",
        "    \n",
        "    #Notice there is the chance that a progenitor. mates with oneself\n",
        "    progenitor_list_a = np.random.choice(list(range(len(population_set))), len(population_set),p=prob_list, replace=True)\n",
        "    progenitor_list_b = np.random.choice(list(range(len(population_set))), len(population_set),p=prob_list, replace=True)\n",
        "    \n",
        "    progenitor_list_a = population_set[progenitor_list_a]\n",
        "    progenitor_list_b = population_set[progenitor_list_b]\n",
        "    \n",
        "    \n",
        "    return np.array([progenitor_list_a,progenitor_list_b])\n",
        "\n",
        "\n",
        "progenitor_list = progenitor_selection(population_set,fitnes_list)\n",
        "progenitor_list[0][2]"
      ],
      "metadata": {
        "colab": {
          "base_uri": "https://localhost:8080/",
          "height": 0
        },
        "id": "zQXS8luIkOTr",
        "outputId": "3a233034-a24c-45c1-fe4d-4ac50b826266"
      },
      "execution_count": 21,
      "outputs": [
        {
          "output_type": "execute_result",
          "data": {
            "text/plain": [
              "array(['Munich', 'London', 'Barcelona', 'Paris', 'Bucharest', 'Prague',\n",
              "       'Rome', 'Budapest', 'Vienna', 'Amsterdam', 'Kyiv', 'Berlin',\n",
              "       'Sofia', 'Milan', 'Warsaw', 'Istanbul', 'Moscow', 'Minsk',\n",
              "       'Brussels', 'Birmingham'], dtype='<U10')"
            ]
          },
          "metadata": {},
          "execution_count": 21
        }
      ]
    },
    {
      "cell_type": "code",
      "source": [
        "def mate_progenitors(prog_a, prog_b):\n",
        "    offspring = prog_a[0:5]\n",
        "\n",
        "    for city in prog_b:\n",
        "\n",
        "        if not city in offspring:\n",
        "            offspring = np.concatenate((offspring,[city]))\n",
        "\n",
        "    return offspring\n",
        "            \n",
        "    \n",
        "    \n",
        "def mate_population(progenitor_list):\n",
        "    new_population_set = []\n",
        "    for i in range(progenitor_list.shape[1]):\n",
        "        prog_a, prog_b = progenitor_list[0][i], progenitor_list[1][i]\n",
        "        offspring = mate_progenitors(prog_a, prog_b)\n",
        "        new_population_set.append(offspring)\n",
        "        \n",
        "    return new_population_set\n",
        "\n",
        "new_population_set = mate_population(progenitor_list)\n",
        "new_population_set[0]"
      ],
      "metadata": {
        "colab": {
          "base_uri": "https://localhost:8080/",
          "height": 0
        },
        "id": "nlpAgk6ekguY",
        "outputId": "57288713-b7ea-43a0-964b-3d3ba893f9b8"
      },
      "execution_count": 22,
      "outputs": [
        {
          "output_type": "execute_result",
          "data": {
            "text/plain": [
              "array(['Sofia', 'Budapest', 'Berlin', 'Moscow', 'Prague', 'Paris',\n",
              "       'Istanbul', 'Warsaw', 'London', 'Minsk', 'Vienna', 'Bucharest',\n",
              "       'Kyiv', 'Birmingham', 'Amsterdam', 'Milan', 'Munich', 'Barcelona',\n",
              "       'Rome', 'Brussels'], dtype='<U10')"
            ]
          },
          "metadata": {},
          "execution_count": 22
        }
      ]
    },
    {
      "cell_type": "code",
      "source": [
        "def mutate_offspring(offspring):\n",
        "    for q in range(int(n_cities*mutation_rate)):\n",
        "        a = np.random.randint(0,n_cities)\n",
        "        b = np.random.randint(0,n_cities)\n",
        "\n",
        "        offspring[a], offspring[b] = offspring[b], offspring[a]\n",
        "\n",
        "    return offspring\n",
        "    \n",
        "    \n",
        "def mutate_population(new_population_set):\n",
        "    mutated_pop = []\n",
        "    for offspring in new_population_set:\n",
        "        mutated_pop.append(mutate_offspring(offspring))\n",
        "    return mutated_pop\n",
        "\n",
        "mutated_pop = mutate_population(new_population_set)\n",
        "mutated_pop[0]"
      ],
      "metadata": {
        "colab": {
          "base_uri": "https://localhost:8080/",
          "height": 0
        },
        "id": "3XjNKCtMkj9X",
        "outputId": "fca7461b-8bd3-45a1-bce0-cfa8990f7cfd"
      },
      "execution_count": 23,
      "outputs": [
        {
          "output_type": "execute_result",
          "data": {
            "text/plain": [
              "array(['Sofia', 'Budapest', 'Berlin', 'Moscow', 'Istanbul', 'Bucharest',\n",
              "       'Barcelona', 'Warsaw', 'London', 'Vienna', 'Minsk', 'Paris',\n",
              "       'Kyiv', 'Prague', 'Milan', 'Amsterdam', 'Munich', 'Birmingham',\n",
              "       'Rome', 'Brussels'], dtype='<U10')"
            ]
          },
          "metadata": {},
          "execution_count": 23
        }
      ]
    },
    {
      "cell_type": "code",
      "source": [
        "best_solution = [-1,np.inf,np.array([])]\n",
        "for i in range(10000):\n",
        "    if i%100==0: print(i, fitnes_list.min(), fitnes_list.mean(), datetime.now().strftime(\"%d/%m/%y %H:%M\"))\n",
        "    fitnes_list = get_all_fitnes(mutated_pop,cities_dict)\n",
        "    \n",
        "    #Saving the best solution\n",
        "    if fitnes_list.min() < best_solution[1]:\n",
        "        best_solution[0] = i\n",
        "        best_solution[1] = fitnes_list.min()\n",
        "        best_solution[2] = np.array(mutated_pop)[fitnes_list.min() == fitnes_list]\n",
        "    \n",
        "    progenitor_list = progenitor_selection(population_set,fitnes_list)\n",
        "    new_population_set = mate_population(progenitor_list)\n",
        "    \n",
        "    mutated_pop = mutate_population(new_population_set)"
      ],
      "metadata": {
        "colab": {
          "base_uri": "https://localhost:8080/",
          "height": 0
        },
        "id": "OzRTLJkQlMXi",
        "outputId": "cb791532-7cc7-496f-cb6a-1e876417185d"
      },
      "execution_count": 24,
      "outputs": [
        {
          "output_type": "stream",
          "name": "stdout",
          "text": [
            "0 770.2796680280227 983.1500376169987 28/03/23 05:04\n",
            "100 749.0419780467583 972.9823255607563 28/03/23 05:04\n",
            "200 773.1988252279594 968.4445550684852 28/03/23 05:04\n",
            "300 793.0244963636725 973.0992640985797 28/03/23 05:04\n",
            "400 753.5991544336539 979.8381922285214 28/03/23 05:04\n",
            "500 773.522787274182 974.587005082728 28/03/23 05:04\n",
            "600 714.7464993521002 986.1500081474416 28/03/23 05:04\n",
            "700 792.1981244895165 983.1022415244224 28/03/23 05:04\n",
            "800 755.4004774123762 978.4845024073262 28/03/23 05:04\n",
            "900 818.2831891587612 992.6548509487812 28/03/23 05:04\n",
            "1000 773.4001868706908 982.3919706019307 28/03/23 05:04\n",
            "1100 768.2283096223804 990.097757054809 28/03/23 05:05\n",
            "1200 782.9330252640012 977.3498404547672 28/03/23 05:05\n",
            "1300 717.9222394097142 978.9307294720285 28/03/23 05:05\n",
            "1400 794.0853816746544 974.36814732458 28/03/23 05:05\n",
            "1500 783.2869332243222 978.8527401484065 28/03/23 05:05\n",
            "1600 798.3719125432729 966.2295153682971 28/03/23 05:05\n",
            "1700 705.8467939991051 981.7675363363146 28/03/23 05:05\n",
            "1800 689.0936410569374 975.8151326835007 28/03/23 05:05\n",
            "1900 727.0886094240869 965.1497142079589 28/03/23 05:05\n",
            "2000 773.1172817818402 1003.7802083244642 28/03/23 05:05\n",
            "2100 758.4837162075492 989.2642137075967 28/03/23 05:05\n",
            "2200 785.7768060285397 981.9602458485781 28/03/23 05:05\n",
            "2300 766.0649913641464 990.1543072517843 28/03/23 05:05\n",
            "2400 785.7872868366873 981.6886592807064 28/03/23 05:05\n",
            "2500 800.4753790333287 993.2058838048222 28/03/23 05:05\n",
            "2600 743.1103117664219 985.0843669630048 28/03/23 05:05\n",
            "2700 697.1858770891902 992.5758999769611 28/03/23 05:05\n",
            "2800 740.0465272086408 975.1473074941906 28/03/23 05:05\n",
            "2900 714.6716415218739 979.618669189931 28/03/23 05:05\n",
            "3000 714.3725255776238 989.0688629073626 28/03/23 05:05\n",
            "3100 745.9491466432834 997.1361343093794 28/03/23 05:06\n",
            "3200 720.5768854781383 984.8237362090184 28/03/23 05:06\n",
            "3300 731.3483330529875 978.7809532183476 28/03/23 05:06\n",
            "3400 753.8292243716769 982.8771626841233 28/03/23 05:06\n",
            "3500 756.550865583749 985.1969332712303 28/03/23 05:06\n",
            "3600 755.2290870766433 990.3431549172706 28/03/23 05:06\n",
            "3700 751.8433509083211 986.809268063638 28/03/23 05:06\n",
            "3800 761.1858426038776 978.8017283918925 28/03/23 05:06\n",
            "3900 733.88799312818 981.1552270824657 28/03/23 05:06\n",
            "4000 728.3912444812571 974.0862283765149 28/03/23 05:06\n",
            "4100 743.6886568425208 969.3890333101201 28/03/23 05:06\n",
            "4200 719.0667538200242 990.9838318803356 28/03/23 05:06\n",
            "4300 818.6198200556369 980.6764895540887 28/03/23 05:06\n",
            "4400 798.0080013458846 984.9346579775093 28/03/23 05:06\n",
            "4500 712.1779089637271 977.5397452344597 28/03/23 05:06\n",
            "4600 731.7785097506771 984.7302760974834 28/03/23 05:06\n",
            "4700 737.714535878731 987.0855129265489 28/03/23 05:06\n",
            "4800 700.9816076473915 972.2308167575108 28/03/23 05:06\n",
            "4900 778.3401611406458 975.8957522179882 28/03/23 05:06\n",
            "5000 753.4448224652133 977.1177413939051 28/03/23 05:06\n",
            "5100 718.4692195645611 991.1243328697954 28/03/23 05:07\n",
            "5200 702.1003303489756 984.633354211684 28/03/23 05:07\n",
            "5300 765.5184982196453 985.4579591636617 28/03/23 05:07\n",
            "5400 828.4965865057676 974.984783063635 28/03/23 05:07\n",
            "5500 734.2713154534049 981.5974048908496 28/03/23 05:07\n",
            "5600 733.2468326192889 964.1616039406554 28/03/23 05:07\n",
            "5700 766.0942033755032 972.3110584951542 28/03/23 05:07\n",
            "5800 739.5723996435436 991.5384922420718 28/03/23 05:07\n",
            "5900 726.1695798642232 977.9455337643553 28/03/23 05:07\n",
            "6000 779.2567284877994 992.903406535533 28/03/23 05:07\n",
            "6100 787.4414542147761 986.5529695557314 28/03/23 05:07\n",
            "6200 733.5820346529707 982.0580324974896 28/03/23 05:07\n",
            "6300 700.5621325749289 974.7041263313597 28/03/23 05:07\n",
            "6400 812.1532690668797 988.0542241090426 28/03/23 05:07\n",
            "6500 775.6645884434258 986.2251304202629 28/03/23 05:07\n",
            "6600 732.7679706649909 981.2343531680814 28/03/23 05:07\n",
            "6700 783.6693390156631 997.192698253225 28/03/23 05:07\n",
            "6800 816.8505587736694 978.2225934120403 28/03/23 05:07\n",
            "6900 734.0114891003376 991.1569671000673 28/03/23 05:07\n",
            "7000 745.8124977502748 973.2116186749929 28/03/23 05:07\n",
            "7100 826.1263806281926 990.7416353579254 28/03/23 05:08\n",
            "7200 707.7894044170221 968.6615877238249 28/03/23 05:08\n",
            "7300 729.5022233206532 1000.7940487749089 28/03/23 05:08\n",
            "7400 752.2839665613564 986.8952823952241 28/03/23 05:08\n",
            "7500 828.0754651328057 998.9642166136495 28/03/23 05:08\n",
            "7600 746.1393931087591 980.2560232668502 28/03/23 05:08\n",
            "7700 784.723387012894 989.6182215521493 28/03/23 05:08\n",
            "7800 815.8890914271556 1004.1974185470639 28/03/23 05:08\n",
            "7900 744.5314891921712 977.1975882229493 28/03/23 05:08\n",
            "8000 786.972481762025 996.7146520657724 28/03/23 05:08\n",
            "8100 747.4204201368992 961.6659912371092 28/03/23 05:08\n",
            "8200 724.7354781805948 974.0289336524095 28/03/23 05:08\n",
            "8300 814.9013977073683 983.788163918463 28/03/23 05:08\n",
            "8400 736.9901017084769 981.8467659441955 28/03/23 05:08\n",
            "8500 771.945508018802 997.3471216848903 28/03/23 05:08\n",
            "8600 699.7072819297188 983.5051848584698 28/03/23 05:08\n",
            "8700 838.1438804195731 989.0103045439517 28/03/23 05:08\n",
            "8800 796.6979222858959 975.3991884631198 28/03/23 05:08\n",
            "8900 806.0414561649119 984.6745173705812 28/03/23 05:08\n",
            "9000 772.071342337953 980.6807375546279 28/03/23 05:08\n",
            "9100 780.654475246742 975.5112735022293 28/03/23 05:09\n",
            "9200 789.1315552286712 975.5627141480632 28/03/23 05:09\n",
            "9300 755.8495068038047 983.9455007329058 28/03/23 05:09\n",
            "9400 784.7933646655003 979.3015347778143 28/03/23 05:09\n",
            "9500 745.6799931587389 977.5603596135818 28/03/23 05:09\n",
            "9600 674.3089953363809 974.6195732369981 28/03/23 05:09\n",
            "9700 800.861239227156 993.760073838869 28/03/23 05:09\n",
            "9800 768.113883328225 982.7154189236884 28/03/23 05:09\n",
            "9900 797.3666437353972 990.0003062598179 28/03/23 05:09\n"
          ]
        }
      ]
    },
    {
      "cell_type": "code",
      "source": [
        "best_solution\n"
      ],
      "metadata": {
        "colab": {
          "base_uri": "https://localhost:8080/",
          "height": 0
        },
        "id": "VLN1UnGbkmlf",
        "outputId": "762e37f8-959e-49bd-9636-3cc3dc82bea5"
      },
      "execution_count": 25,
      "outputs": [
        {
          "output_type": "execute_result",
          "data": {
            "text/plain": [
              "[8060,\n",
              " 573.9394114970532,\n",
              " array([['Prague', 'Rome', 'Minsk', 'Barcelona', 'Milan', 'Birmingham',\n",
              "         'Munich', 'Amsterdam', 'Kyiv', 'Brussels', 'Bucharest', 'Vienna',\n",
              "         'Budapest', 'Istanbul', 'Moscow', 'Warsaw', 'Berlin', 'Paris',\n",
              "         'London', 'Sofia']], dtype='<U10')]"
            ]
          },
          "metadata": {},
          "execution_count": 25
        }
      ]
    },
    {
      "cell_type": "code",
      "source": [],
      "metadata": {
        "id": "_f8rUZ7Zky4d"
      },
      "execution_count": null,
      "outputs": []
    }
  ]
}