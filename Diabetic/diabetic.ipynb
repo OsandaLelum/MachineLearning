import sys
import math
import string
import numpy as np
import pandas as pd
import seaborn as sns
