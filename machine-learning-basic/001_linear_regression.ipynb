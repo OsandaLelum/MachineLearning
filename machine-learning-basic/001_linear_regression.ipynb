{
  "nbformat": 4,
  "nbformat_minor": 0,
  "metadata": {
    "colab": {
      "provenance": []
    },
    "kernelspec": {
      "name": "python3",
      "display_name": "Python 3"
    },
    "language_info": {
      "name": "python"
    }
  },
  "cells": [
    {
      "cell_type": "markdown",
      "source": [
        "Linear regression is a statistical modeling technique used to establish a relationship between a dependent variable and one or more independent variables. It assumes a linear relationship between the variables, meaning that changes in the independent variables are linearly related to changes in the dependent variable.\n",
        "\n",
        "In linear regression, the goal is to fit a straight line to a set of data points that best represents the relationship between the variables. The line is defined by an equation of the form:\n",
        "\n",
        "y = mx + b\n",
        "\n",
        "Where:\n",
        "- y is the dependent variable (also called the response variable or target variable),\n",
        "- x is the independent variable (also called the predictor variable or feature),\n",
        "- m is the slope of the line (representing the change in y for a unit change in x),\n",
        "- b is the y-intercept (representing the value of y when x is 0).\n",
        "\n",
        "The process of fitting a linear regression model involves estimating the values of m and b based on the available data. This is typically done by minimizing the sum of the squared differences between the observed values of the dependent variable and the values predicted by the linear equation.\n",
        "\n",
        "Once the model is fitted, it can be used to make predictions for new values of the independent variable by plugging them into the equation. Additionally, the model can provide insights into the strength and direction of the relationship between the variables, as well as the statistical significance of the estimated coefficients.\n",
        "\n",
        "Linear regression is widely used in various fields for tasks such as predicting housing prices, analyzing the impact of variables on business outcomes, and understanding relationships between variables in scientific research."
      ],
      "metadata": {
        "id": "54mnEekXyH_i"
      }
    },
    {
      "cell_type": "code",
      "execution_count": null,
      "metadata": {
        "id": "CvGw4xFkxltb"
      },
      "outputs": [],
      "source": [
        "import numpy as np\n",
        "from sklearn.linear_model import LinearRegression\n",
        "\n",
        "# Sample data\n",
        "X = np.array([[1], [2], [3], [4], [5]])  # Independent variable (input)\n",
        "y = np.array([2, 4, 6, 8, 10])  # Dependent variable (output)\n",
        "\n",
        "# Create and fit the linear regression model\n",
        "model = LinearRegression()\n",
        "model.fit(X, y)\n",
        "\n",
        "# Predict new values\n",
        "new_X = np.array([[6], [7], [8]])  # New input values\n",
        "predictions = model.predict(new_X)\n",
        "\n",
        "# Output the predictions\n",
        "print(predictions)\n"
      ]
    }
  ]
}