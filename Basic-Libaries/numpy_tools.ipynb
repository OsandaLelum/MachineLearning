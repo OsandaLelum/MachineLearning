{
  "nbformat": 4,
  "nbformat_minor": 0,
  "metadata": {
    "colab": {
      "provenance": []
    },
    "kernelspec": {
      "name": "python3",
      "display_name": "Python 3"
    },
    "language_info": {
      "name": "python"
    }
  },
  "cells": [
    {
      "cell_type": "markdown",
      "source": [
        "**NumPy** is a popular numerical computing library for Python. It provides powerful data structures, such as arrays and matrices, along with a wide range of mathematical functions to manipulate and analyze the data efficiently. NumPy stands for \"Numerical Python.\"\n",
        "\n",
        "Key features and functionalities of NumPy:\n",
        "\n",
        "1. ndarray: NumPy's main data structure is the ndarray (n-dimensional array), which is a homogeneous collection of elements with a fixed size. It allows efficient **storage** and manipulation of large datasets.\n",
        "\n",
        "2. Mathematical operations: NumPy provides a vast collection of mathematical functions that operate element-wise on arrays. These functions include basic arithmetic operations, trigonometric functions, exponential functions, logarithmic functions, and more.\n",
        "\n",
        "3. Broadcasting: NumPy supports broadcasting, which is a powerful mechanism for performing arithmetic operations between arrays with different shapes. It simplifies the process of performing operations on arrays of different sizes, making the code concise and efficient.\n",
        "\n",
        "4. Indexing and slicing: NumPy allows indexing and slicing operations to access and manipulate elements or subsets of arrays. It provides various indexing techniques, such as integer indexing, boolean indexing, and advanced indexing.\n",
        "\n",
        "5. Linear algebra operations: NumPy provides essential linear algebra operations, such as matrix multiplication, solving linear equations, eigenvalues, eigenvectors, and more. These operations are crucial for many scientific and engineering applications.\n",
        "\n",
        "6. Random number generation: NumPy includes a random module that enables the generation of random numbers and arrays with different probability distributions. It is useful for simulations, statistical analysis, and\n",
        "generating test data.\n",
        "\n",
        "7. Integration with other libraries: NumPy integrates well with other scientific computing libraries in the Python ecosystem, such as SciPy, Pandas, and Matplotlib. These libraries together provide a comprehensive suite of tools for scientific computing, data analysis, and visualization.\n",
        "\n",
        "To use NumPy in Python, you need to install it first. You can install NumPy using pip, the Python package manager, with the following command:\n",
        "\n",
        "```shell\n",
        "pip install numpy\n",
        "```\n",
        "\n",
        "Once installed, you can import the NumPy module in your Python script or interactive session using the following import statement:\n",
        "\n",
        "```python\n",
        "import numpy as np\n",
        "```\n",
        "\n",
        "After importing, you can create NumPy arrays, perform various operations, and utilize the library's functionalities. NumPy has extensive documentation available at https://numpy.org/doc/ that provides detailed explanations, examples, and guidelines for using its features effectively."
      ],
      "metadata": {
        "id": "WstE5RQ6KOBO"
      }
    },
    {
      "cell_type": "code",
      "execution_count": 1,
      "metadata": {
        "id": "zMsL-BY7KKHv"
      },
      "outputs": [],
      "source": [
        "import numpy as np\n"
      ]
    },
    {
      "cell_type": "markdown",
      "source": [
        "The numpy.zeros() function is used to create an array filled with zeros. It returns a new array with the specified shape and data type, where all the elements are initialized to zero.\n",
        "\n",
        "\n",
        "**The syntax of the numpy.zeros() function is as follows:**\n",
        "\n",
        "`numpy.zeros(shape, dtype=float, order='C')`\n",
        "\n",
        "**Here, the parameters are:**\n",
        "\n",
        "**shape:** This specifies the shape of the array as a tuple or an integer. For example, shape=(3, 4) creates a 2D array with 3 rows and 4 columns, and shape=5 creates a 1D array with 5 elements.\n",
        "\n",
        "**dtype** (optional): This parameter specifies the data type of the elements in the array. The default is float, but you can specify other data types such as int, bool, etc.\n",
        "\n",
        "**order (optional)**: This parameter specifies the memory layout of the array. It can be 'C' for C-style row-major order or 'F' for Fortran-style column-major order. The default is 'C'.\n"
      ],
      "metadata": {
        "id": "B2mxjarrKolR"
      }
    },
    {
      "cell_type": "code",
      "source": [
        "#Print 1D array\n",
        "np.zeros(10)"
      ],
      "metadata": {
        "colab": {
          "base_uri": "https://localhost:8080/"
        },
        "id": "TUarqVrkLKZ4",
        "outputId": "64ad22b8-91b1-4ee4-df9b-b986f0124db7"
      },
      "execution_count": 2,
      "outputs": [
        {
          "output_type": "execute_result",
          "data": {
            "text/plain": [
              "array([0., 0., 0., 0., 0., 0., 0., 0., 0., 0.])"
            ]
          },
          "metadata": {},
          "execution_count": 2
        }
      ]
    },
    {
      "cell_type": "code",
      "source": [
        "#Print 2D array\n",
        "print('print 2D array with floats')\n",
        "print(np.zeros((3,4)))\n",
        "\n",
        "print('--------------------------------')\n",
        "#Print 2D array\n",
        "print('print 2D array with integeres')\n",
        "a = np.zeros((3,4),dtype=int)\n",
        "a"
      ],
      "metadata": {
        "colab": {
          "base_uri": "https://localhost:8080/"
        },
        "id": "TMr9NNWENj4H",
        "outputId": "e549f3f1-8843-4dad-f608-0035c8bb40d6"
      },
      "execution_count": 17,
      "outputs": [
        {
          "output_type": "stream",
          "name": "stdout",
          "text": [
            "print 2D array with floats\n",
            "[[0. 0. 0. 0.]\n",
            " [0. 0. 0. 0.]\n",
            " [0. 0. 0. 0.]]\n",
            "--------------------------------\n",
            "print 2D array with integeres\n"
          ]
        },
        {
          "output_type": "execute_result",
          "data": {
            "text/plain": [
              "array([[0, 0, 0, 0],\n",
              "       [0, 0, 0, 0],\n",
              "       [0, 0, 0, 0]])"
            ]
          },
          "metadata": {},
          "execution_count": 17
        }
      ]
    },
    {
      "cell_type": "markdown",
      "source": [
        "[link text](https://)"
      ],
      "metadata": {
        "id": "AwlOkQVBKotT"
      }
    },
    {
      "cell_type": "markdown",
      "source": [],
      "metadata": {
        "id": "Rf58yLM6KgDL"
      }
    },
    {
      "cell_type": "code",
      "source": [
        "a.shape"
      ],
      "metadata": {
        "colab": {
          "base_uri": "https://localhost:8080/"
        },
        "id": "9kZ-FxwVROlW",
        "outputId": "82f7786e-c0bc-4e59-baf5-31eeaac912f9"
      },
      "execution_count": 18,
      "outputs": [
        {
          "output_type": "execute_result",
          "data": {
            "text/plain": [
              "(3, 4)"
            ]
          },
          "metadata": {},
          "execution_count": 18
        }
      ]
    },
    {
      "cell_type": "code",
      "source": [
        "a.ndim"
      ],
      "metadata": {
        "colab": {
          "base_uri": "https://localhost:8080/"
        },
        "id": "Q4FJcH3kRTIB",
        "outputId": "87405ce8-a17b-4645-ae87-e4c14d12ff38"
      },
      "execution_count": 19,
      "outputs": [
        {
          "output_type": "execute_result",
          "data": {
            "text/plain": [
              "2"
            ]
          },
          "metadata": {},
          "execution_count": 19
        }
      ]
    },
    {
      "cell_type": "code",
      "source": [
        "len(a.shape)"
      ],
      "metadata": {
        "colab": {
          "base_uri": "https://localhost:8080/"
        },
        "id": "DMw9i6LaRaXm",
        "outputId": "4453b570-6524-4052-ffe0-4e9d8783d973"
      },
      "execution_count": 21,
      "outputs": [
        {
          "output_type": "execute_result",
          "data": {
            "text/plain": [
              "2"
            ]
          },
          "metadata": {},
          "execution_count": 21
        }
      ]
    },
    {
      "cell_type": "code",
      "source": [
        "#Print 3D Array\n",
        "\n",
        "b=np.zeros((3,3,3))\n",
        "b"
      ],
      "metadata": {
        "colab": {
          "base_uri": "https://localhost:8080/"
        },
        "id": "Bz6RRIKjNGvo",
        "outputId": "a2e6552f-c56b-449e-a545-102940ea0e8a"
      },
      "execution_count": 22,
      "outputs": [
        {
          "output_type": "execute_result",
          "data": {
            "text/plain": [
              "array([[[0., 0., 0.],\n",
              "        [0., 0., 0.],\n",
              "        [0., 0., 0.]],\n",
              "\n",
              "       [[0., 0., 0.],\n",
              "        [0., 0., 0.],\n",
              "        [0., 0., 0.]],\n",
              "\n",
              "       [[0., 0., 0.],\n",
              "        [0., 0., 0.],\n",
              "        [0., 0., 0.]]])"
            ]
          },
          "metadata": {},
          "execution_count": 22
        }
      ]
    },
    {
      "cell_type": "code",
      "source": [
        "b.shape"
      ],
      "metadata": {
        "colab": {
          "base_uri": "https://localhost:8080/"
        },
        "id": "6G2SD7sfRufw",
        "outputId": "0af0df9f-1b60-48b0-d1da-1f8e5b6fe659"
      },
      "execution_count": 23,
      "outputs": [
        {
          "output_type": "execute_result",
          "data": {
            "text/plain": [
              "(3, 3, 3)"
            ]
          },
          "metadata": {},
          "execution_count": 23
        }
      ]
    },
    {
      "cell_type": "code",
      "source": [
        "b.ndim"
      ],
      "metadata": {
        "colab": {
          "base_uri": "https://localhost:8080/"
        },
        "id": "lhTVNX_sRwLK",
        "outputId": "34b20a11-9f47-4c83-9ebf-7cdeb4c4ad09"
      },
      "execution_count": 24,
      "outputs": [
        {
          "output_type": "execute_result",
          "data": {
            "text/plain": [
              "3"
            ]
          },
          "metadata": {},
          "execution_count": 24
        }
      ]
    },
    {
      "cell_type": "code",
      "source": [
        "len(b.shape)"
      ],
      "metadata": {
        "colab": {
          "base_uri": "https://localhost:8080/"
        },
        "id": "8ZSAvz3OR0Wx",
        "outputId": "198f69bb-0a6f-4b6c-a043-3e40b4961056"
      },
      "execution_count": 25,
      "outputs": [
        {
          "output_type": "execute_result",
          "data": {
            "text/plain": [
              "3"
            ]
          },
          "metadata": {},
          "execution_count": 25
        }
      ]
    },
    {
      "cell_type": "markdown",
      "source": [],
      "metadata": {
        "id": "e7xRxUozSqt_"
      }
    },
    {
      "cell_type": "markdown",
      "source": [
        "In NumPy, N-dimensional arrays, or simply ndarrays, are the fundamental data structure. They are homogeneous collections of elements with a fixed size and shape. An ndarray can have any number of dimensions or axes, allowing for the representation of multi-dimensional data efficiently.\n",
        "\n",
        "**Shape:** The shape of an ndarray is a tuple that describes the size of each dimension or axis. For example, a 2D array with shape (3, 4) has 3 rows and 4 columns. The shape provides information about the array's structure and the number of elements along each axis.\n",
        "\n",
        "**Rank:** The rank of an ndarray refers to the number of dimensions or axes it possesses. It is equal to the length of the shape tuple. For instance, a 2D array has a rank of 2, a 3D array has a rank of 3, and so on.\n",
        "\n",
        "**Accessing Elements:** Elements in an ndarray can be accessed using indices along each axis. The indices start from 0 and go up to the length of the axis minus one. For example, in a 2D array, the element at row 1 and column 2 can be accessed as array_name[1, 2].\n",
        "\n",
        "**Slicing: **NumPy provides powerful slicing operations to extract subsets of arrays. Slicing allows you to access portions of an array along one or more axes. It is done using the colon (:) notation. For example, array_name[:, 1:3] would slice the array to include all rows and columns 1 to 2.\n",
        "\n",
        "**Reshaping:** Reshaping an ndarray means changing its shape while keeping the same number of elements. The reshape() function in NumPy allows you to reshape an array into a different shape. The reshaping operation should be compatible with the number of elements in the array.\n",
        "\n",
        "**Broadcasting:** Broadcasting is a powerful mechanism in NumPy that allows for arithmetic operations between arrays with different shapes. It eliminates the need for explicit looping and simplifies code execution. Broadcasting rules determine how arrays with different shapes are treated during arithmetic operations.\n"
      ],
      "metadata": {
        "id": "XxBlTcWaSVHW"
      }
    },
    {
      "cell_type": "code",
      "source": [
        "c = np.arange(24)\n",
        "d=c.reshape(2,3,4)\n",
        "d\n"
      ],
      "metadata": {
        "colab": {
          "base_uri": "https://localhost:8080/"
        },
        "id": "BB3YM-CUTwao",
        "outputId": "b04f533b-68cd-4847-f441-907ccd199818"
      },
      "execution_count": 37,
      "outputs": [
        {
          "output_type": "execute_result",
          "data": {
            "text/plain": [
              "array([[[ 0,  1,  2,  3],\n",
              "        [ 4,  5,  6,  7],\n",
              "        [ 8,  9, 10, 11]],\n",
              "\n",
              "       [[12, 13, 14, 15],\n",
              "        [16, 17, 18, 19],\n",
              "        [20, 21, 22, 23]]])"
            ]
          },
          "metadata": {},
          "execution_count": 37
        }
      ]
    },
    {
      "cell_type": "markdown",
      "source": [],
      "metadata": {
        "id": "kjYG0KB8aKRr"
      }
    },
    {
      "cell_type": "code",
      "source": [
        "print(d[1,0,3])"
      ],
      "metadata": {
        "colab": {
          "base_uri": "https://localhost:8080/"
        },
        "id": "PEmXIVyOYexf",
        "outputId": "28ab3f60-caf0-4c93-841f-5b3cfb2ec3bf"
      },
      "execution_count": 36,
      "outputs": [
        {
          "output_type": "stream",
          "name": "stdout",
          "text": [
            "15\n"
          ]
        }
      ]
    },
    {
      "cell_type": "markdown",
      "source": [
        " **break down the slicing operation:**\n",
        "\n",
        "**:** in the first position means to select all elements along the first axis (which has a length of 2 in the given array d).\n",
        "\n",
        "**1:3** in the second position means to select elements from index 1 to 2 along the second axis (rows). This will include the second and third rows.\n",
        "\n",
        "**2:4** in the third position means to select elements from index 2 to 3 along the third axis (columns). This will include the third and fourth columns.\n",
        "\n",
        "\n"
      ],
      "metadata": {
        "id": "w7oCOe4yZ3wS"
      }
    },
    {
      "cell_type": "code",
      "source": [
        "print(d[:, 1:3, 2:4])\n"
      ],
      "metadata": {
        "colab": {
          "base_uri": "https://localhost:8080/"
        },
        "id": "nM5a6e6cZIMT",
        "outputId": "e8d215b1-5d72-4698-8235-d879cd21d686"
      },
      "execution_count": 40,
      "outputs": [
        {
          "output_type": "stream",
          "name": "stdout",
          "text": [
            "[[[ 6  7]\n",
            "  [10 11]]\n",
            "\n",
            " [[18 19]\n",
            "  [22 23]]]\n"
          ]
        }
      ]
    },
    {
      "cell_type": "markdown",
      "source": [
        "**Array type**\n",
        "NumPy arrays have the type ndarrays:"
      ],
      "metadata": {
        "id": "eKD_dvrbadtX"
      }
    },
    {
      "cell_type": "code",
      "source": [
        "type(np.zeros((4,4)))"
      ],
      "metadata": {
        "colab": {
          "base_uri": "https://localhost:8080/"
        },
        "id": "LjfW3R_sadQ7",
        "outputId": "3989e26e-9644-4f91-823c-787024ece798"
      },
      "execution_count": 41,
      "outputs": [
        {
          "output_type": "execute_result",
          "data": {
            "text/plain": [
              "numpy.ndarray"
            ]
          },
          "metadata": {},
          "execution_count": 41
        }
      ]
    },
    {
      "cell_type": "code",
      "source": [
        "np.ones((3,5))"
      ],
      "metadata": {
        "colab": {
          "base_uri": "https://localhost:8080/"
        },
        "id": "0TuN1kwNaupX",
        "outputId": "57666b55-175a-406d-8a4b-e01649324b82"
      },
      "execution_count": 44,
      "outputs": [
        {
          "output_type": "execute_result",
          "data": {
            "text/plain": [
              "array([[1., 1., 1., 1., 1.],\n",
              "       [1., 1., 1., 1., 1.],\n",
              "       [1., 1., 1., 1., 1.]])"
            ]
          },
          "metadata": {},
          "execution_count": 44
        }
      ]
    },
    {
      "cell_type": "code",
      "source": [
        "np.pi"
      ],
      "metadata": {
        "colab": {
          "base_uri": "https://localhost:8080/"
        },
        "id": "DSxE0_vNcb_1",
        "outputId": "1d2d48ab-e7a2-44fe-ba69-5d3535badc8f"
      },
      "execution_count": 45,
      "outputs": [
        {
          "output_type": "execute_result",
          "data": {
            "text/plain": [
              "3.141592653589793"
            ]
          },
          "metadata": {},
          "execution_count": 45
        }
      ]
    },
    {
      "cell_type": "code",
      "source": [
        "np.full((4,4),1)"
      ],
      "metadata": {
        "colab": {
          "base_uri": "https://localhost:8080/"
        },
        "id": "9544o6K7ckTO",
        "outputId": "3301195a-1152-4fae-b08b-f7a9e637dd5e"
      },
      "execution_count": 47,
      "outputs": [
        {
          "output_type": "execute_result",
          "data": {
            "text/plain": [
              "array([[1, 1, 1, 1],\n",
              "       [1, 1, 1, 1],\n",
              "       [1, 1, 1, 1],\n",
              "       [1, 1, 1, 1]])"
            ]
          },
          "metadata": {},
          "execution_count": 47
        }
      ]
    },
    {
      "cell_type": "code",
      "source": [
        "np.full((4,4),np.e)"
      ],
      "metadata": {
        "colab": {
          "base_uri": "https://localhost:8080/"
        },
        "id": "TUBMJ0Mmcwu9",
        "outputId": "5f6b5283-7827-4339-d39b-f24836cad6fe"
      },
      "execution_count": 49,
      "outputs": [
        {
          "output_type": "execute_result",
          "data": {
            "text/plain": [
              "array([[2.71828183, 2.71828183, 2.71828183, 2.71828183],\n",
              "       [2.71828183, 2.71828183, 2.71828183, 2.71828183],\n",
              "       [2.71828183, 2.71828183, 2.71828183, 2.71828183],\n",
              "       [2.71828183, 2.71828183, 2.71828183, 2.71828183]])"
            ]
          },
          "metadata": {},
          "execution_count": 49
        }
      ]
    },
    {
      "cell_type": "markdown",
      "source": [
        "**Constants**\n",
        "\n",
        "np.e: The mathematical constant e, approximately equal to 2.718281828459.\n",
        "np.inf: Represents positive infinity.\n",
        "np.nan: Represents a floating-point \"Not a Number\" value.\n",
        "\n",
        "**Mathematical functions:**\n",
        "\n",
        "np.sin(x): Computes the sine of x, where x is in radians.\n",
        "\n",
        "np.cos(x): Computes the cosine of x, where x is in radians.\n",
        "\n",
        "np.exp(x): Computes the exponential function of x, i.e., e^x.\n",
        "\n",
        "np.log(x): Computes the natural logarithm of x.\n",
        "\n",
        "np.sqrt(x): Computes the square root of x.\n",
        "\n",
        "**Array creation functions:**\n",
        "\n",
        "np.arange(start, stop, step): Creates an array with regularly spaced values within a given range.\n",
        "\n",
        "np.linspace(start, stop, num): Creates an array with a specified number of evenly spaced values within a given range.\n",
        "\n",
        "np.zeros(shape): Creates an array filled with zeros.\n",
        "\n",
        "np.ones(shape): Creates an array filled with ones.\n",
        "\n",
        "np.random.rand(shape): Creates an array of random numbers from a uniform distribution between 0 and 1.\n",
        "\n",
        "np.random.randn(shape): Creates an array of random numbers from a standard normal distribution (mean 0, standard deviation 1).\n",
        "\n",
        "**Linear algebra functions:**\n",
        "\n",
        "np.dot(a, b): Computes the dot product of two arrays.\n",
        "\n",
        "np.linalg.inv(a): Computes the inverse of a square matrix\n",
        "\n",
        "np.linalg.eig(a): Computes the eigenvalues and eigenvectors of a square matrix\n",
        "\n",
        "np.linalg.norm(a): Computes the norm of an array"
      ],
      "metadata": {
        "id": "-tQvXtZAdF8u"
      }
    },
    {
      "cell_type": "code",
      "source": [],
      "metadata": {
        "id": "_saz8IQ5C5Fp"
      },
      "execution_count": null,
      "outputs": []
    },
    {
      "cell_type": "code",
      "source": [
        "x=10\n",
        "np.sin(x)"
      ],
      "metadata": {
        "colab": {
          "base_uri": "https://localhost:8080/"
        },
        "id": "mc9-gp20BNol",
        "outputId": "d90b7f52-af0a-4948-e0af-35d252098128"
      },
      "execution_count": 50,
      "outputs": [
        {
          "output_type": "execute_result",
          "data": {
            "text/plain": [
              "-0.5440211108893698"
            ]
          },
          "metadata": {},
          "execution_count": 50
        }
      ]
    },
    {
      "cell_type": "code",
      "source": [
        "np.cos(x)"
      ],
      "metadata": {
        "colab": {
          "base_uri": "https://localhost:8080/"
        },
        "id": "MuRBTziYBSY8",
        "outputId": "13f822b8-1d92-4927-8fe1-0b0df70d9d10"
      },
      "execution_count": 51,
      "outputs": [
        {
          "output_type": "execute_result",
          "data": {
            "text/plain": [
              "-0.8390715290764524"
            ]
          },
          "metadata": {},
          "execution_count": 51
        }
      ]
    },
    {
      "cell_type": "code",
      "source": [
        "np.exp(x)"
      ],
      "metadata": {
        "colab": {
          "base_uri": "https://localhost:8080/"
        },
        "id": "fL49h4xNBVBL",
        "outputId": "8e5cf543-c11b-49d8-f78a-d110a5efab9a"
      },
      "execution_count": 52,
      "outputs": [
        {
          "output_type": "execute_result",
          "data": {
            "text/plain": [
              "22026.465794806718"
            ]
          },
          "metadata": {},
          "execution_count": 52
        }
      ]
    },
    {
      "cell_type": "code",
      "source": [
        "np.log(x)"
      ],
      "metadata": {
        "colab": {
          "base_uri": "https://localhost:8080/"
        },
        "id": "SX3Cba3sBYYL",
        "outputId": "3a8861c8-3d66-4cfe-dc7e-e43327be512a"
      },
      "execution_count": 53,
      "outputs": [
        {
          "output_type": "execute_result",
          "data": {
            "text/plain": [
              "2.302585092994046"
            ]
          },
          "metadata": {},
          "execution_count": 53
        }
      ]
    },
    {
      "cell_type": "code",
      "source": [
        "np.sqrt(x)"
      ],
      "metadata": {
        "colab": {
          "base_uri": "https://localhost:8080/"
        },
        "id": "K0jyDsc_BcfW",
        "outputId": "7b3f153f-f4d2-48c0-cf6b-f40841f74a2a"
      },
      "execution_count": 54,
      "outputs": [
        {
          "output_type": "execute_result",
          "data": {
            "text/plain": [
              "3.1622776601683795"
            ]
          },
          "metadata": {},
          "execution_count": 54
        }
      ]
    },
    {
      "cell_type": "code",
      "source": [
        "np.arange(1,10,2)"
      ],
      "metadata": {
        "colab": {
          "base_uri": "https://localhost:8080/"
        },
        "id": "Pxiin0ORBjgx",
        "outputId": "d5468522-8301-4edb-c800-3255694b57ad"
      },
      "execution_count": 57,
      "outputs": [
        {
          "output_type": "execute_result",
          "data": {
            "text/plain": [
              "array([1, 3, 5, 7, 9])"
            ]
          },
          "metadata": {},
          "execution_count": 57
        }
      ]
    },
    {
      "cell_type": "code",
      "source": [
        "np.linspace(1,10,5)"
      ],
      "metadata": {
        "colab": {
          "base_uri": "https://localhost:8080/"
        },
        "id": "OzD6i54BBwWs",
        "outputId": "1ae68bc4-ddaf-4b07-c6e4-d2b0dd7b119c"
      },
      "execution_count": 61,
      "outputs": [
        {
          "output_type": "execute_result",
          "data": {
            "text/plain": [
              "array([ 1.  ,  3.25,  5.5 ,  7.75, 10.  ])"
            ]
          },
          "metadata": {},
          "execution_count": 61
        }
      ]
    },
    {
      "cell_type": "code",
      "source": [
        "np.zeros(12)"
      ],
      "metadata": {
        "colab": {
          "base_uri": "https://localhost:8080/"
        },
        "id": "YgweS8-DCClk",
        "outputId": "b25cfcfb-67ec-40d6-9dc4-5cbad1c62ed1"
      },
      "execution_count": 63,
      "outputs": [
        {
          "output_type": "execute_result",
          "data": {
            "text/plain": [
              "array([0., 0., 0., 0., 0., 0., 0., 0., 0., 0., 0., 0.])"
            ]
          },
          "metadata": {},
          "execution_count": 63
        }
      ]
    },
    {
      "cell_type": "code",
      "source": [
        "np.ones(12)"
      ],
      "metadata": {
        "colab": {
          "base_uri": "https://localhost:8080/"
        },
        "id": "vkCQ9LijCXKd",
        "outputId": "d8c13a8e-cb09-4e38-98a7-357f3ffab2e5"
      },
      "execution_count": 64,
      "outputs": [
        {
          "output_type": "execute_result",
          "data": {
            "text/plain": [
              "array([1., 1., 1., 1., 1., 1., 1., 1., 1., 1., 1., 1.])"
            ]
          },
          "metadata": {},
          "execution_count": 64
        }
      ]
    },
    {
      "cell_type": "code",
      "source": [
        "np.random.rand(10)"
      ],
      "metadata": {
        "colab": {
          "base_uri": "https://localhost:8080/"
        },
        "id": "btM8QqS9Cf-b",
        "outputId": "c183b5a7-a586-4114-abc4-390283c11243"
      },
      "execution_count": 65,
      "outputs": [
        {
          "output_type": "execute_result",
          "data": {
            "text/plain": [
              "array([0.72058883, 0.04419329, 0.96490362, 0.63213528, 0.25212268,\n",
              "       0.2441693 , 0.39590564, 0.30665948, 0.17820407, 0.50804153])"
            ]
          },
          "metadata": {},
          "execution_count": 65
        }
      ]
    },
    {
      "cell_type": "code",
      "source": [
        "np.random.randn(4)"
      ],
      "metadata": {
        "colab": {
          "base_uri": "https://localhost:8080/"
        },
        "id": "-mlaxZydCjSu",
        "outputId": "2e424a93-adb3-4c0e-ceda-716bd09e6ecf"
      },
      "execution_count": 67,
      "outputs": [
        {
          "output_type": "execute_result",
          "data": {
            "text/plain": [
              "array([ 0.04771375, -0.92385701,  1.2143368 ,  0.91450381])"
            ]
          },
          "metadata": {},
          "execution_count": 67
        }
      ]
    },
    {
      "cell_type": "code",
      "source": [
        "np.dot(3,4)"
      ],
      "metadata": {
        "colab": {
          "base_uri": "https://localhost:8080/"
        },
        "id": "nWXwjHDZCvoQ",
        "outputId": "9dbd415c-f5f1-4933-a0ca-49c2c81024e9"
      },
      "execution_count": 68,
      "outputs": [
        {
          "output_type": "execute_result",
          "data": {
            "text/plain": [
              "12"
            ]
          },
          "metadata": {},
          "execution_count": 68
        }
      ]
    },
    {
      "cell_type": "code",
      "source": [
        "matrix = np.array([[1, 2], [3, 4]])\n",
        "inverse_matrix = np.linalg.inv(matrix)\n",
        "\n",
        "print(inverse_matrix)\n"
      ],
      "metadata": {
        "colab": {
          "base_uri": "https://localhost:8080/"
        },
        "id": "EEjkGFOmC6dt",
        "outputId": "c7cedb9b-8370-4bc0-df7f-eb1176a290e9"
      },
      "execution_count": 71,
      "outputs": [
        {
          "output_type": "stream",
          "name": "stdout",
          "text": [
            "[[-2.   1. ]\n",
            " [ 1.5 -0.5]]\n"
          ]
        }
      ]
    },
    {
      "cell_type": "code",
      "source": [
        "np.linalg.eig(b)"
      ],
      "metadata": {
        "colab": {
          "base_uri": "https://localhost:8080/"
        },
        "id": "DfsWsxC9IYj9",
        "outputId": "9de21ed9-040b-4671-d1ec-cc34023ae489"
      },
      "execution_count": 74,
      "outputs": [
        {
          "output_type": "execute_result",
          "data": {
            "text/plain": [
              "(array([[0., 0., 0.],\n",
              "        [0., 0., 0.],\n",
              "        [0., 0., 0.]]),\n",
              " array([[[1., 0., 0.],\n",
              "         [0., 1., 0.],\n",
              "         [0., 0., 1.]],\n",
              " \n",
              "        [[1., 0., 0.],\n",
              "         [0., 1., 0.],\n",
              "         [0., 0., 1.]],\n",
              " \n",
              "        [[1., 0., 0.],\n",
              "         [0., 1., 0.],\n",
              "         [0., 0., 1.]]]))"
            ]
          },
          "metadata": {},
          "execution_count": 74
        }
      ]
    },
    {
      "cell_type": "code",
      "source": [
        "a = np.array([[1, 2], [3, 4]])\n",
        "eigenvalues, eigenvectors = np.linalg.eig(a)\n",
        "\n",
        "print(\"Eigenvalues:\")\n",
        "print(eigenvalues)\n",
        "print('')\n",
        "print(\"Eigenvectors:\")\n",
        "print(eigenvectors)"
      ],
      "metadata": {
        "colab": {
          "base_uri": "https://localhost:8080/"
        },
        "id": "KUDBVlonI-uQ",
        "outputId": "2b64f7f4-40e3-4464-c078-5d6d816a10ef"
      },
      "execution_count": 78,
      "outputs": [
        {
          "output_type": "stream",
          "name": "stdout",
          "text": [
            "Eigenvalues:\n",
            "[-0.37228132  5.37228132]\n",
            "\n",
            "Eigenvectors:\n",
            "[[-0.82456484 -0.41597356]\n",
            " [ 0.56576746 -0.90937671]]\n"
          ]
        }
      ]
    },
    {
      "cell_type": "code",
      "source": [
        "import matplotlib.pyplot as plt\n",
        "\n",
        "# Plot histogram for uniform distribution (rand)\n",
        "plt.hist(np.random.rand(100000), density=True, bins=100, histtype=\"step\", color=\"blue\", label=\"rand\")\n",
        "\n",
        "# Plot histogram for standard normal distribution (randn)\n",
        "plt.hist(np.random.randn(100000), density=True, bins=100, histtype=\"step\", color=\"red\", label=\"randn\")\n",
        "\n",
        "# Set the axis limits\n",
        "plt.axis([-2.5, 2.5, 0, 1.1])\n",
        "\n",
        "# Add a legend to the plot\n",
        "plt.legend(loc=\"upper left\")\n",
        "\n",
        "# Set the title and axis labels\n",
        "plt.title(\"Random distributions\")\n",
        "plt.xlabel(\"Value\")\n",
        "plt.ylabel(\"Density\")\n",
        "\n",
        "# Display the plot\n",
        "plt.show()\n"
      ],
      "metadata": {
        "colab": {
          "base_uri": "https://localhost:8080/",
          "height": 472
        },
        "id": "UC4BdW7iLJ2A",
        "outputId": "9907cbe2-ba0d-4ecb-ef99-50e7c13b0a8a"
      },
      "execution_count": 80,
      "outputs": [
        {
          "output_type": "display_data",
          "data": {
            "text/plain": [
              "<Figure size 640x480 with 1 Axes>"
            ],
            "image/png": "[encoded data removed]"
          },
          "metadata": {}
        }
      ]
    }
  ]
}